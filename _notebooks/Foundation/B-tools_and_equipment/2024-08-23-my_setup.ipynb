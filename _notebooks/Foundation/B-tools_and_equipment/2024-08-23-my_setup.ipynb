{
 "cells": [
  {
   "cell_type": "raw",
   "metadata": {},
   "source": [
    "---\n",
    "layout: post\n",
    "title: My Setup Journey\n",
    "description: This is my setup journey to get the tools needed for Computer Science A\n",
    "categories: [DevOps]\n",
    "permalink: /devops/tools/journey\n",
    "author: Beijan Moniza\n",
    "menu: nav/tools_setup.html\n",
    "toc: true\n",
    "comments: true\n",
    "sticky_rank: 2\n",
    "---"
   ]
  },
  {
   "cell_type": "markdown",
   "metadata": {},
   "source": [
    "# My Setup Journey\n",
    "In this blog I will be showing how I set up the various tools needed to be successful in Computer Science A\n",
    "\n",
    "## Introduction\n",
    "- First I will start with the basics. Slack and Github are the core of Computer science as Slack helps people to communicate and github is used to keep all the code in repositories.\n",
    "![]({{ site.baseurl }}/images/notebooks/foundation/slack_announcement.png)\n",
    "![]({{ site.baseurl }}/images/notebooks/foundation/Github_home.png)\n",
    "- The third tool that we will be using a lot is AI, more specifically Github Copilot as well as Chat GPT. I really like using ChatGpt to help me debug code and help me solve problems that my peers couldn't help me with.\n",
    "![]({{ site.baseurl }}/images/notebooks/foundation/chatgpt.png)"
   ]
  }
 ],
 "metadata": {
  "language_info": {
   "name": "python"
  },
  "orig_nbformat": 4
 },
 "nbformat": 4,
 "nbformat_minor": 2
}
